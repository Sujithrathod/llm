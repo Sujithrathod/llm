{
 "cells": [
  {
   "cell_type": "code",
   "execution_count": 20,
   "id": "132a07f8",
   "metadata": {},
   "outputs": [],
   "source": [
    "import torch\n",
    "import tiktoken"
   ]
  },
  {
   "cell_type": "code",
   "execution_count": 21,
   "id": "219203a7",
   "metadata": {},
   "outputs": [],
   "source": [
    "tokenize = tiktoken.get_encoding(\"gpt2\")\n",
    "text = \"Your journey starts with one step\"\n",
    "vocab_size = tokenize.n_vocab\n",
    "max_size = 3"
   ]
  },
  {
   "cell_type": "code",
   "execution_count": 22,
   "id": "8517bb4d",
   "metadata": {},
   "outputs": [],
   "source": [
    "text_encode = tokenize.encode(text)\n",
    "input_id = torch.tensor(text_encode)\n",
    "text_size = len(text_encode)"
   ]
  },
  {
   "cell_type": "code",
   "execution_count": 23,
   "id": "bfee92cc",
   "metadata": {},
   "outputs": [],
   "source": [
    "from torch.utils.data import Dataset, DataLoader\n",
    "class GPTDatasetV1(Dataset):\n",
    "    def __init__(self,txt,tokenize,max_length,stride):\n",
    "        self.input_ids = []\n",
    "        self.target_ids = []\n",
    "        \n",
    "        token_ids = tokenize.encode(txt)\n",
    "        print(\"token length : \",len(token_ids))\n",
    "        \n",
    "        for i in range(0,len(token_ids)-max_length, stride):\n",
    "            input_chunk = token_ids[i:i+max_length]\n",
    "            target_chunk = token_ids[i+1 : i+max_length+1]\n",
    "            self.input_ids.append(torch.tensor(input_chunk))\n",
    "            self.target_ids.append(torch.tensor(target_chunk))\n",
    "    \n",
    "    def __len__(self):\n",
    "        return len(self.input_ids)\n",
    "    \n",
    "    def __getitem__(self, index):\n",
    "        return self.input_ids[index],self.target_ids[index]"
   ]
  },
  {
   "cell_type": "code",
   "execution_count": 52,
   "id": "071c4a99",
   "metadata": {},
   "outputs": [
    {
     "name": "stdout",
     "output_type": "stream",
     "text": [
      "token length :  6\n",
      "input_ids_batch, target_ids_batch tensor([[7120, 7002, 4940]])   tensor([[7002, 4940,  351]])\n",
      "tensor([[[ 1.2058,  1.0512,  0.3289],\n",
      "         [ 0.1538, -1.6546, -0.3034],\n",
      "         [-0.5631,  3.1535,  0.6226]]], grad_fn=<EmbeddingBackward0>)\n",
      "input_ids_batch, target_ids_batch tensor([[7002, 4940,  351]])   tensor([[4940,  351,  530]])\n",
      "tensor([[[ 0.1538, -1.6546, -0.3034],\n",
      "         [-0.5631,  3.1535,  0.6226],\n",
      "         [-0.4531,  1.1252, -0.1373]]], grad_fn=<EmbeddingBackward0>)\n",
      "input_ids_batch, target_ids_batch tensor([[4940,  351,  530]])   tensor([[ 351,  530, 2239]])\n",
      "tensor([[[-0.5631,  3.1535,  0.6226],\n",
      "         [-0.4531,  1.1252, -0.1373],\n",
      "         [ 0.3593,  0.1302, -0.5676]]], grad_fn=<EmbeddingBackward0>)\n"
     ]
    }
   ],
   "source": [
    "vocab_size = tokenize.n_vocab\n",
    "max_size = 3\n",
    "def dataloaderV1(txt,max_length,stride,batch_size):\n",
    "    tokenizer = tiktoken.get_encoding(\"gpt2\")\n",
    "    dataset = GPTDatasetV1(txt,tokenizer,max_length,stride)\n",
    "    dataload = DataLoader(dataset,\n",
    "                        batch_size=batch_size)\n",
    "    return dataload\n",
    "\n",
    "dataload = dataloaderV1(text,3,1,1)\n",
    "iterator = iter(dataload)\n",
    "\n",
    "embedding = torch.nn.Embedding(vocab_size,max_size)\n",
    "\n",
    "for batch in dataload:\n",
    "    input_ids_batch, target_ids_batch = batch\n",
    "    print(\"input_ids_batch, target_ids_batch\" , input_ids_batch, \" \", target_ids_batch)\n",
    "    embedding_batch = embedding(input_ids_batch)\n",
    "    print(embedding_batch)"
   ]
  },
  {
   "cell_type": "code",
   "execution_count": 55,
   "id": "5981f5f0",
   "metadata": {},
   "outputs": [
    {
     "name": "stdout",
     "output_type": "stream",
     "text": [
      "input_embedding tensor([[ 1.2058,  1.0512,  0.3289],\n",
      "        [ 0.1538, -1.6546, -0.3034],\n",
      "        [-0.5631,  3.1535,  0.6226],\n",
      "        [-0.4531,  1.1252, -0.1373],\n",
      "        [ 0.3593,  0.1302, -0.5676],\n",
      "        [ 0.9942,  1.2144, -0.7297]], grad_fn=<EmbeddingBackward0>)\n"
     ]
    }
   ],
   "source": [
    "# instead embedding for all doing for one time\n",
    "token_id = torch.tensor(text_encode)\n",
    "input_embedding = embedding(token_id)\n",
    "print(\"input_embedding\" , input_embedding)"
   ]
  },
  {
   "cell_type": "code",
   "execution_count": null,
   "id": "6ae37ea3",
   "metadata": {},
   "outputs": [],
   "source": []
  }
 ],
 "metadata": {
  "kernelspec": {
   "display_name": "base",
   "language": "python",
   "name": "python3"
  },
  "language_info": {
   "codemirror_mode": {
    "name": "ipython",
    "version": 3
   },
   "file_extension": ".py",
   "mimetype": "text/x-python",
   "name": "python",
   "nbconvert_exporter": "python",
   "pygments_lexer": "ipython3",
   "version": "3.12.7"
  }
 },
 "nbformat": 4,
 "nbformat_minor": 5
}
