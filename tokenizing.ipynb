{
 "cells": [
  {
   "cell_type": "code",
   "execution_count": 1,
   "id": "ccf55b3e",
   "metadata": {},
   "outputs": [],
   "source": [
    "# convert the text into embeddings\n",
    "train_test = \"The quick brown fox jumps over the lazy dog and chased swift playfully\""
   ]
  },
  {
   "cell_type": "code",
   "execution_count": 2,
   "id": "efea59ec",
   "metadata": {},
   "outputs": [
    {
     "name": "stdout",
     "output_type": "stream",
     "text": [
      "['The', 'quick', 'brown', 'fox', 'jumps', 'over', 'the', 'lazy', 'dog', 'and', 'chased', 'swift', 'playfully']\n",
      "{'The': 0, 'quick': 1, 'brown': 2, 'fox': 3, 'jumps': 4, 'over': 5, 'the': 6, 'lazy': 7, 'dog': 8, 'and': 9, 'chased': 10, 'swift': 11, 'playfully': 12}\n"
     ]
    }
   ],
   "source": [
    "import re\n",
    "tokenize = re.split(r'([,./\"]|--|\\s)',train_test)\n",
    "train_tokenize = [item for item in tokenize if item is not None and item.strip()]\n",
    "vocab = {item:val for val,item in enumerate(train_tokenize)}\n",
    "print(train_tokenize)\n",
    "print(vocab)\n"
   ]
  },
  {
   "cell_type": "code",
   "execution_count": 3,
   "id": "73f410f0",
   "metadata": {},
   "outputs": [
    {
     "name": "stdout",
     "output_type": "stream",
     "text": [
      "[6, 2, 8, 12, 10, 6, 11, 3]\n",
      "the brown dog playfully chased the swift fox\n"
     ]
    }
   ],
   "source": [
    "# we can add more regex for this if we want \n",
    "class TokenizersV1:\n",
    "    def __init__(self,vocab):\n",
    "        self.word_to_int = vocab\n",
    "        self.int_to_word = {i:s for s,i in vocab.items()}\n",
    "    \n",
    "    def encode(self,word):\n",
    "        word = word.lower()\n",
    "        preprocess = re.split(r'([,.?]|--|\\s)',word)\n",
    "        preprocess = [item for item in preprocess if item is not None and item.strip()]\n",
    "        itr = [self.word_to_int[i] for i in preprocess]\n",
    "        return itr\n",
    "    \n",
    "    def decode(self,ids):\n",
    "        text = \" \".join([self.int_to_word[i] for i in ids])\n",
    "        text = re.sub(r'\\s+([.,?/])','/1',text)\n",
    "        return text\n",
    "\n",
    "tokenize = TokenizersV1(vocab)\n",
    "sample = \"The Brown dog playfully chased the swift fox\"\n",
    "encoded = tokenize.encode(sample)\n",
    "decoded = tokenize.decode(encoded)\n",
    "print(encoded)\n",
    "print(decoded)\n"
   ]
  },
  {
   "cell_type": "code",
   "execution_count": 4,
   "id": "2a9b6ffa",
   "metadata": {},
   "outputs": [
    {
     "name": "stdout",
     "output_type": "stream",
     "text": [
      "{'The': 0, 'quick': 1, 'brown': 2, 'fox': 3, 'jumps': 4, 'over': 5, 'the': 6, 'lazy': 7, 'dog': 8, 'and': 9, 'chased': 10, 'swift': 11, 'playfully': 12, '<|endoftext|>': 13, '<|unk|>': 14}\n"
     ]
    }
   ],
   "source": [
    "# tokenizer that handles unknown words\n",
    "train_data = \"The quick brown fox jumps over the lazy dog and chased swift playfully\"\n",
    "word = re.split(r\"([.,?]|--|\\s)\",train_data)\n",
    "word = [item for item in word if item is not None and item.strip()]\n",
    "word.extend([\"<|endoftext|>\", \"<|unk|>\"])\n",
    "word = {item:idx for idx,item in enumerate(word)} \n",
    "vocab = word\n",
    "print(word)\n"
   ]
  },
  {
   "cell_type": "code",
   "execution_count": 5,
   "id": "95497516",
   "metadata": {},
   "outputs": [
    {
     "name": "stdout",
     "output_type": "stream",
     "text": [
      "[6, 2, 8, 12, 10, 6, 11, 3, 14, 14]\n",
      "the brown dog playfully chased the swift fox <|unk|> <|unk|>\n"
     ]
    }
   ],
   "source": [
    "\n",
    "class TokenizersV2:\n",
    "    def __init__(self,vocab):\n",
    "        self.word_to_int = vocab\n",
    "        self.int_to_word = {i:s for s,i in vocab.items()}\n",
    "    \n",
    "    def encode(self, text):\n",
    "        text = text.lower()\n",
    "        words = re.split(r'([,.?_/\\[\\]]|--|\\s)', text)\n",
    "        words = [item for item in words if item is not None and item.strip()]\n",
    "        words = [item if item in self.word_to_int else \"<|unk|>\" for item in words]\n",
    "        ids = [self.word_to_int[word] for word in words]\n",
    "        return ids\n",
    "    \n",
    "    def decode(self,ids):\n",
    "        decode  = \" \".join([self.int_to_word[i] for i in ids])\n",
    "        decode = re.sub(r'\\s + ([,.;:?\\ ])',r'/1',decode)\n",
    "        return decode\n",
    "    \n",
    "\n",
    "tokenize = TokenizersV2(vocab)\n",
    "sample = \"The Brown dog playfully chased the swift fox virat bmw\"\n",
    "encoded = tokenize.encode(sample)\n",
    "decoded = tokenize.decode(encoded)\n",
    "print(encoded)\n",
    "print(decoded)"
   ]
  }
 ],
 "metadata": {
  "kernelspec": {
   "display_name": "base",
   "language": "python",
   "name": "python3"
  },
  "language_info": {
   "codemirror_mode": {
    "name": "ipython",
    "version": 3
   },
   "file_extension": ".py",
   "mimetype": "text/x-python",
   "name": "python",
   "nbconvert_exporter": "python",
   "pygments_lexer": "ipython3",
   "version": "3.12.7"
  }
 },
 "nbformat": 4,
 "nbformat_minor": 5
}
